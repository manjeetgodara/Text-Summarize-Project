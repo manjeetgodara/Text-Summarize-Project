{
 "cells": [
  {
   "cell_type": "code",
   "id": "initial_id",
   "metadata": {
    "collapsed": true,
    "ExecuteTime": {
     "end_time": "2025-03-31T07:57:23.666079Z",
     "start_time": "2025-03-31T07:57:23.660994Z"
    }
   },
   "source": [
    "\n",
    "%pwd"
   ],
   "outputs": [
    {
     "data": {
      "text/plain": [
       "'C:\\\\Users\\\\godar\\\\Desktop\\\\Text-Summarize-Project\\\\research'"
      ]
     },
     "execution_count": 1,
     "metadata": {},
     "output_type": "execute_result"
    }
   ],
   "execution_count": 1
  },
  {
   "metadata": {
    "ExecuteTime": {
     "end_time": "2025-03-31T07:57:25.985525Z",
     "start_time": "2025-03-31T07:57:25.980998Z"
    }
   },
   "cell_type": "code",
   "source": [
    "import os\n",
    "\n",
    "os.chdir(\"../\")"
   ],
   "id": "16ca95e247d15286",
   "outputs": [],
   "execution_count": 2
  },
  {
   "metadata": {
    "ExecuteTime": {
     "end_time": "2025-03-31T07:57:27.692345Z",
     "start_time": "2025-03-31T07:57:27.688888Z"
    }
   },
   "cell_type": "code",
   "source": "%pwd",
   "id": "81f7e6e391ff3690",
   "outputs": [
    {
     "data": {
      "text/plain": [
       "'C:\\\\Users\\\\godar\\\\Desktop\\\\Text-Summarize-Project'"
      ]
     },
     "execution_count": 3,
     "metadata": {},
     "output_type": "execute_result"
    }
   ],
   "execution_count": 3
  },
  {
   "metadata": {
    "ExecuteTime": {
     "end_time": "2025-03-31T07:57:31.065443Z",
     "start_time": "2025-03-31T07:57:31.061782Z"
    }
   },
   "cell_type": "code",
   "source": [
    "from dataclasses import dataclass\n",
    "from pathlib import Path\n",
    "# Entity(which defines the return type of function\n",
    "@dataclass(frozen=True)\n",
    "class DataTransformationConfig:\n",
    "    root_dir: Path\n",
    "    data_path : Path\n",
    "    tokenizer_name : Path"
   ],
   "id": "3758bd5af5a750ee",
   "outputs": [],
   "execution_count": 4
  },
  {
   "metadata": {
    "ExecuteTime": {
     "end_time": "2025-03-31T07:57:36.651049Z",
     "start_time": "2025-03-31T07:57:34.236927Z"
    }
   },
   "cell_type": "code",
   "source": "!pip install python-box",
   "id": "962c58bc98dc41fc",
   "outputs": [
    {
     "name": "stdout",
     "output_type": "stream",
     "text": [
      "Requirement already satisfied: python-box in c:\\users\\godar\\desktop\\text-summarize-project\\myenv\\lib\\site-packages (7.3.2)\n"
     ]
    }
   ],
   "execution_count": 5
  },
  {
   "metadata": {
    "ExecuteTime": {
     "end_time": "2025-03-31T07:57:38.842747Z",
     "start_time": "2025-03-31T07:57:38.758648Z"
    }
   },
   "cell_type": "code",
   "source": [
    "from src.textSummarizer.constants import *\n",
    "from src.textSummarizer.utils.common import read_yaml,create_directories"
   ],
   "id": "c0963a29a340294b",
   "outputs": [],
   "execution_count": 6
  },
  {
   "metadata": {
    "ExecuteTime": {
     "end_time": "2025-03-31T07:57:41.361987Z",
     "start_time": "2025-03-31T07:57:41.358377Z"
    }
   },
   "cell_type": "code",
   "source": [
    "class ConfigurationManager:\n",
    "    def __init__(self,\n",
    "                 config_filepath=CONFIG_FILE_PATH,\n",
    "                 params_filepath=PARAMS_FILE_PATH):\n",
    "        self.config =read_yaml(config_filepath)\n",
    "        self.params = read_yaml(params_filepath)\n",
    "\n",
    "        create_directories([self.config.artifacts_root])\n",
    "\n",
    "    def get_data_transformation_config(self)->DataTransformationConfig:\n",
    "        config = self.config.data_transformation\n",
    "        create_directories([config.root_dir])\n",
    "        data_transformation_config=DataTransformationConfig(root_dir=config.root_dir,\n",
    "                                                  data_path=config.data_path,\n",
    "                                                  tokenizer_name=config.tokenizer_name)\n",
    "        return data_transformation_config"
   ],
   "id": "9dca678542dd110d",
   "outputs": [],
   "execution_count": 7
  },
  {
   "metadata": {
    "ExecuteTime": {
     "end_time": "2025-03-31T07:57:48.991258Z",
     "start_time": "2025-03-31T07:57:44.737971Z"
    }
   },
   "cell_type": "code",
   "source": [
    "import os\n",
    "from src.textSummarizer.logging import logger\n",
    "from transformers import AutoTokenizer\n",
    "from datasets import load_dataset,load_from_disk"
   ],
   "id": "97d72294249af7c4",
   "outputs": [
    {
     "name": "stderr",
     "output_type": "stream",
     "text": [
      "C:\\Users\\godar\\Desktop\\Text-Summarize-Project\\myenv\\Lib\\site-packages\\tqdm\\auto.py:21: TqdmWarning: IProgress not found. Please update jupyter and ipywidgets. See https://ipywidgets.readthedocs.io/en/stable/user_install.html\n",
      "  from .autonotebook import tqdm as notebook_tqdm\n"
     ]
    },
    {
     "name": "stdout",
     "output_type": "stream",
     "text": [
      "[2025-03-31 13:27:48,664] : INFO : config : PyTorch version 2.6.0 available.\n"
     ]
    }
   ],
   "execution_count": 8
  },
  {
   "metadata": {
    "ExecuteTime": {
     "end_time": "2025-03-31T07:57:49.000501Z",
     "start_time": "2025-03-31T07:57:48.996053Z"
    }
   },
   "cell_type": "code",
   "source": [
    "class DataTransformation:\n",
    "        def __init__(self,config:DataTransformationConfig):\n",
    "           print(\"Loaded Config:\", config)\n",
    "           self.config = config\n",
    "           self.tokenizer = AutoTokenizer.from_pretrained(self.config.tokenizer_name)\n",
    "\n",
    "        def convert_examples_to_features(self,example_batch):\n",
    "            input_encodings = self.tokenizer(example_batch['dialogue'] , max_length = 1024, truncation = True )\n",
    "\n",
    "            with self.tokenizer.as_target_tokenizer():\n",
    "                target_encodings = self.tokenizer(example_batch['summary'], max_length = 128, truncation = True )\n",
    "\n",
    "            return {\n",
    "                'input_ids' : input_encodings['input_ids'],\n",
    "                'attention_mask': input_encodings['attention_mask'],\n",
    "                'labels': target_encodings['input_ids']\n",
    "            }\n",
    "        def convert(self):\n",
    "            if not hasattr(self.config, \"data_path\") or not os.path.exists(self.config.data_path):\n",
    "                raise ValueError(f\"Invalid data path: {self.config.data_path}\")\n",
    "            dataset_samsum =load_from_disk(self.config.data_path)\n",
    "            dataset_samsum_pt=dataset_samsum.map(self.convert_examples_to_features,batched=True)\n",
    "            dataset_samsum_pt.save_to_disk(os.path.join(self.config.root_dir,\"samsum_dataset\"))\n"
   ],
   "id": "34f12b1b785c81f9",
   "outputs": [],
   "execution_count": 9
  },
  {
   "metadata": {
    "ExecuteTime": {
     "end_time": "2025-03-31T07:57:50.478285Z",
     "start_time": "2025-03-31T07:57:50.475465Z"
    }
   },
   "cell_type": "code",
   "source": [
    "from box import ConfigBox\n",
    "\n",
    "config_dict = {\"data_path\": \"/path/to/data\"}  # Ensure this exists\n",
    "config = ConfigBox(config_dict)\n",
    "\n",
    "print(config.data_path)  # Should not raise an error\n"
   ],
   "id": "6f4fd964b5bc84ad",
   "outputs": [
    {
     "name": "stdout",
     "output_type": "stream",
     "text": [
      "/path/to/data\n"
     ]
    }
   ],
   "execution_count": 10
  },
  {
   "metadata": {
    "ExecuteTime": {
     "end_time": "2025-03-31T07:57:58.467253Z",
     "start_time": "2025-03-31T07:57:55.431561Z"
    }
   },
   "cell_type": "code",
   "source": [
    "try:\n",
    "    config=ConfigurationManager()\n",
    "    print(\"Here..............\")\n",
    "    data_transformation_config=config.get_data_transformation_config()\n",
    "    print(\"here.........\")\n",
    "    data_transformation=DataTransformation(config=data_transformation_config)\n",
    "    data_transformation.convert()\n",
    "except Exception as e:\n",
    "    raise e"
   ],
   "id": "32e4e2c5aa9cfc11",
   "outputs": [
    {
     "name": "stdout",
     "output_type": "stream",
     "text": [
      "[2025-03-31 13:27:55,434] : INFO : common : Loaded config\\config.yaml successfully\n",
      "[2025-03-31 13:27:55,435] : INFO : common : Loaded params.yaml successfully\n",
      "[2025-03-31 13:27:55,436] : INFO : common : Created directory artifacts successfully\n",
      "Here..............\n",
      "[2025-03-31 13:27:55,437] : INFO : common : Created directory artifacts/data_transformation successfully\n",
      "here.........\n",
      "Loaded Config: DataTransformationConfig(root_dir='artifacts/data_transformation', data_path='artifacts/data_ingestion/samsum_dataset', tokenizer_name='google/pegasus-cnn_dailymail')\n"
     ]
    },
    {
     "name": "stderr",
     "output_type": "stream",
     "text": [
      "Map:   0%|          | 0/14732 [00:00<?, ? examples/s]C:\\Users\\godar\\Desktop\\Text-Summarize-Project\\myenv\\Lib\\site-packages\\transformers\\tokenization_utils_base.py:3980: UserWarning: `as_target_tokenizer` is deprecated and will be removed in v5 of Transformers. You can tokenize your labels by using the argument `text_target` of the regular `__call__` method (either in the same call as your input texts if you use the same keyword arguments, or in a separate call.\n",
      "  warnings.warn(\n",
      "Map: 100%|██████████| 14732/14732 [00:01<00:00, 8594.59 examples/s]\n",
      "Map: 100%|██████████| 819/819 [00:00<00:00, 8411.41 examples/s]\n",
      "Map: 100%|██████████| 818/818 [00:00<00:00, 8373.01 examples/s]\n",
      "Saving the dataset (1/1 shards): 100%|██████████| 14732/14732 [00:00<00:00, 585680.71 examples/s]\n",
      "Saving the dataset (1/1 shards): 100%|██████████| 819/819 [00:00<00:00, 129218.14 examples/s]\n",
      "Saving the dataset (1/1 shards): 100%|██████████| 818/818 [00:00<00:00, 123339.71 examples/s]\n"
     ]
    }
   ],
   "execution_count": 11
  },
  {
   "metadata": {},
   "cell_type": "code",
   "outputs": [],
   "execution_count": null,
   "source": "",
   "id": "ae77d565c3e2ac5d"
  }
 ],
 "metadata": {
  "kernelspec": {
   "display_name": "Python 3",
   "language": "python",
   "name": "python3"
  },
  "language_info": {
   "codemirror_mode": {
    "name": "ipython",
    "version": 2
   },
   "file_extension": ".py",
   "mimetype": "text/x-python",
   "name": "python",
   "nbconvert_exporter": "python",
   "pygments_lexer": "ipython2",
   "version": "2.7.6"
  }
 },
 "nbformat": 4,
 "nbformat_minor": 5
}
