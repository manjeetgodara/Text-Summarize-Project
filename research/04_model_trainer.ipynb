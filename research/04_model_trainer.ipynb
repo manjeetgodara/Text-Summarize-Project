{
 "cells": [
  {
   "cell_type": "code",
   "id": "initial_id",
   "metadata": {
    "collapsed": true,
    "ExecuteTime": {
     "end_time": "2025-03-31T10:35:05.995887Z",
     "start_time": "2025-03-31T10:35:05.991350Z"
    }
   },
   "source": "import os",
   "outputs": [],
   "execution_count": 1
  },
  {
   "metadata": {
    "ExecuteTime": {
     "end_time": "2025-03-31T10:35:07.833739Z",
     "start_time": "2025-03-31T10:35:07.828705Z"
    }
   },
   "cell_type": "code",
   "source": "%pwd",
   "id": "99594df5b21947a6",
   "outputs": [
    {
     "data": {
      "text/plain": [
       "'C:\\\\Users\\\\godar\\\\Desktop\\\\Text-Summarize-Project\\\\research'"
      ]
     },
     "execution_count": 2,
     "metadata": {},
     "output_type": "execute_result"
    }
   ],
   "execution_count": 2
  },
  {
   "metadata": {
    "ExecuteTime": {
     "end_time": "2025-03-31T10:35:10.348122Z",
     "start_time": "2025-03-31T10:35:10.345530Z"
    }
   },
   "cell_type": "code",
   "source": "os.chdir(\"../\")",
   "id": "8e1af381a9b1d74b",
   "outputs": [],
   "execution_count": 3
  },
  {
   "metadata": {
    "ExecuteTime": {
     "end_time": "2025-03-31T10:35:13.547447Z",
     "start_time": "2025-03-31T10:35:13.541816Z"
    }
   },
   "cell_type": "code",
   "source": "%pwd",
   "id": "39a2a0c8310294c",
   "outputs": [
    {
     "data": {
      "text/plain": [
       "'C:\\\\Users\\\\godar\\\\Desktop\\\\Text-Summarize-Project'"
      ]
     },
     "execution_count": 4,
     "metadata": {},
     "output_type": "execute_result"
    }
   ],
   "execution_count": 4
  },
  {
   "metadata": {
    "ExecuteTime": {
     "end_time": "2025-03-31T10:35:16.569010Z",
     "start_time": "2025-03-31T10:35:16.564968Z"
    }
   },
   "cell_type": "code",
   "source": [
    "from dataclasses import dataclass\n",
    "from pathlib import Path\n",
    "# Entity(which defines the return type of function\n",
    "@dataclass(frozen=True)\n",
    "class ModelTrainerConfig:\n",
    "      root_dir: Path\n",
    "      data_path : Path\n",
    "      model_ckpt : Path\n",
    "      num_train_epochs: int\n",
    "      warmup_steps: int\n",
    "      per_device_train_batch_size: int\n",
    "      per_device_eval_batch_size: int\n",
    "      weight_decay: float\n",
    "      logging_steps: int\n",
    "      evaluation_strategy: str\n",
    "      eval_steps: int\n",
    "      save_steps: float\n",
    "      gradient_accumulation_steps: int"
   ],
   "id": "71e683653139e23a",
   "outputs": [],
   "execution_count": 5
  },
  {
   "metadata": {
    "ExecuteTime": {
     "end_time": "2025-03-31T10:35:19.989088Z",
     "start_time": "2025-03-31T10:35:19.899232Z"
    }
   },
   "cell_type": "code",
   "source": [
    "from src.textSummarizer.constants import *\n",
    "from src.textSummarizer.utils.common import read_yaml,create_directories"
   ],
   "id": "decffe1a20a5debf",
   "outputs": [],
   "execution_count": 6
  },
  {
   "metadata": {
    "ExecuteTime": {
     "end_time": "2025-03-31T10:35:22.669076Z",
     "start_time": "2025-03-31T10:35:22.665355Z"
    }
   },
   "cell_type": "code",
   "source": [
    "class ConfigurationManager:\n",
    "    def __init__(self,\n",
    "                 config_filepath=CONFIG_FILE_PATH,\n",
    "                 params_filepath=PARAMS_FILE_PATH):\n",
    "        self.config =read_yaml(config_filepath)\n",
    "        self.params = read_yaml(params_filepath)\n",
    "\n",
    "        create_directories([self.config.artifacts_root])\n",
    "\n",
    "    def get_model_trainer_config(self)->ModelTrainerConfig:\n",
    "        config = self.config.model_trainer\n",
    "        params = self.params.Training_Arguments\n",
    "        create_directories([config.root_dir])\n",
    "        model_trainer_config=ModelTrainerConfig(root_dir=config.root_dir,\n",
    "                                                  data_path=config.data_path,\n",
    "                                                  model_ckpt=config.model_ckpt ,\n",
    "                                                  num_train_epochs=params.num_train_epochs,\n",
    "                                                  warmup_steps=params.warmup_steps,\n",
    "                                                  per_device_train_batch_size=params.per_device_train_batch_size,\n",
    "                                                  per_device_eval_batch_size=params.per_device_eval_batch_size,\n",
    "                                                  weight_decay=params.weight_decay,\n",
    "                                                  logging_steps=params.logging_steps,\n",
    "                                                  evaluation_strategy=params.evaluation_strategy,\n",
    "                                                  eval_steps=params.eval_steps,\n",
    "                                                  save_steps=params.save_steps,\n",
    "                                                  gradient_accumulation_steps=params.gradient_accumulation_steps  )\n",
    "        return model_trainer_config"
   ],
   "id": "8dae1e71b2069c67",
   "outputs": [],
   "execution_count": 7
  },
  {
   "metadata": {
    "ExecuteTime": {
     "end_time": "2025-03-31T09:53:59.621081Z",
     "start_time": "2025-03-31T09:53:56.831344Z"
    }
   },
   "cell_type": "code",
   "source": "from transformers import DataCollatorForSeq2Seq",
   "id": "675fcc0f5b7c2d37",
   "outputs": [
    {
     "name": "stderr",
     "output_type": "stream",
     "text": [
      "C:\\Users\\godar\\Desktop\\Text-Summarize-Project\\myenv\\Lib\\site-packages\\tqdm\\auto.py:21: TqdmWarning: IProgress not found. Please update jupyter and ipywidgets. See https://ipywidgets.readthedocs.io/en/stable/user_install.html\n",
      "  from .autonotebook import tqdm as notebook_tqdm\n"
     ]
    }
   ],
   "execution_count": 8
  },
  {
   "metadata": {
    "ExecuteTime": {
     "end_time": "2025-03-31T10:35:35.478456Z",
     "start_time": "2025-03-31T10:35:35.475577Z"
    }
   },
   "cell_type": "code",
   "source": [
    "from transformers import TrainingArguments, Trainer\n",
    "from transformers import DataCollatorForSeq2Seq\n",
    "from transformers import AutoTokenizer, AutoModelForSeq2SeqLM\n",
    "from datasets import load_dataset, load_from_disk\n",
    "import torch"
   ],
   "id": "39f94e3a8532a1ae",
   "outputs": [],
   "execution_count": 9
  },
  {
   "metadata": {
    "ExecuteTime": {
     "end_time": "2025-03-31T10:35:59.145845Z",
     "start_time": "2025-03-31T10:35:38.046038Z"
    }
   },
   "cell_type": "code",
   "source": [
    "!pip install --upgrade accelerate\n",
    "!pip uninstall -y transformers accelerate\n",
    "!pip install transformers accelerate\n",
    "!pip install transformers[sentencepiece] datasets sacrebleu rouge_score py7zr -q"
   ],
   "id": "7a8bb25516c2649",
   "outputs": [
    {
     "name": "stdout",
     "output_type": "stream",
     "text": [
      "Requirement already satisfied: accelerate in c:\\users\\godar\\desktop\\text-summarize-project\\myenv\\lib\\site-packages (1.5.2)\n",
      "Requirement already satisfied: numpy<3.0.0,>=1.17 in c:\\users\\godar\\desktop\\text-summarize-project\\myenv\\lib\\site-packages (from accelerate) (2.2.4)\n",
      "Requirement already satisfied: packaging>=20.0 in c:\\users\\godar\\desktop\\text-summarize-project\\myenv\\lib\\site-packages (from accelerate) (24.2)\n",
      "Requirement already satisfied: psutil in c:\\users\\godar\\desktop\\text-summarize-project\\myenv\\lib\\site-packages (from accelerate) (7.0.0)\n",
      "Requirement already satisfied: pyyaml in c:\\users\\godar\\desktop\\text-summarize-project\\myenv\\lib\\site-packages (from accelerate) (6.0.2)\n",
      "Requirement already satisfied: torch>=2.0.0 in c:\\users\\godar\\desktop\\text-summarize-project\\myenv\\lib\\site-packages (from accelerate) (2.6.0)\n",
      "Requirement already satisfied: huggingface-hub>=0.21.0 in c:\\users\\godar\\desktop\\text-summarize-project\\myenv\\lib\\site-packages (from accelerate) (0.29.3)\n",
      "Requirement already satisfied: safetensors>=0.4.3 in c:\\users\\godar\\desktop\\text-summarize-project\\myenv\\lib\\site-packages (from accelerate) (0.5.3)\n",
      "Requirement already satisfied: filelock in c:\\users\\godar\\desktop\\text-summarize-project\\myenv\\lib\\site-packages (from huggingface-hub>=0.21.0->accelerate) (3.18.0)\n",
      "Requirement already satisfied: fsspec>=2023.5.0 in c:\\users\\godar\\desktop\\text-summarize-project\\myenv\\lib\\site-packages (from huggingface-hub>=0.21.0->accelerate) (2024.12.0)\n",
      "Requirement already satisfied: requests in c:\\users\\godar\\desktop\\text-summarize-project\\myenv\\lib\\site-packages (from huggingface-hub>=0.21.0->accelerate) (2.32.3)\n",
      "Requirement already satisfied: tqdm>=4.42.1 in c:\\users\\godar\\desktop\\text-summarize-project\\myenv\\lib\\site-packages (from huggingface-hub>=0.21.0->accelerate) (4.67.1)\n",
      "Requirement already satisfied: typing-extensions>=3.7.4.3 in c:\\users\\godar\\desktop\\text-summarize-project\\myenv\\lib\\site-packages (from huggingface-hub>=0.21.0->accelerate) (4.13.0)\n",
      "Requirement already satisfied: networkx in c:\\users\\godar\\desktop\\text-summarize-project\\myenv\\lib\\site-packages (from torch>=2.0.0->accelerate) (3.4.2)\n",
      "Requirement already satisfied: jinja2 in c:\\users\\godar\\desktop\\text-summarize-project\\myenv\\lib\\site-packages (from torch>=2.0.0->accelerate) (3.1.2)\n",
      "Requirement already satisfied: setuptools in c:\\users\\godar\\desktop\\text-summarize-project\\myenv\\lib\\site-packages (from torch>=2.0.0->accelerate) (78.1.0)\n",
      "Requirement already satisfied: sympy==1.13.1 in c:\\users\\godar\\desktop\\text-summarize-project\\myenv\\lib\\site-packages (from torch>=2.0.0->accelerate) (1.13.1)\n",
      "Requirement already satisfied: mpmath<1.4,>=1.1.0 in c:\\users\\godar\\desktop\\text-summarize-project\\myenv\\lib\\site-packages (from sympy==1.13.1->torch>=2.0.0->accelerate) (1.3.0)\n",
      "Requirement already satisfied: colorama in c:\\users\\godar\\desktop\\text-summarize-project\\myenv\\lib\\site-packages (from tqdm>=4.42.1->huggingface-hub>=0.21.0->accelerate) (0.4.6)\n",
      "Requirement already satisfied: MarkupSafe>=2.0 in c:\\users\\godar\\desktop\\text-summarize-project\\myenv\\lib\\site-packages (from jinja2->torch>=2.0.0->accelerate) (3.0.2)\n",
      "Requirement already satisfied: charset-normalizer<4,>=2 in c:\\users\\godar\\desktop\\text-summarize-project\\myenv\\lib\\site-packages (from requests->huggingface-hub>=0.21.0->accelerate) (3.4.1)\n",
      "Requirement already satisfied: idna<4,>=2.5 in c:\\users\\godar\\desktop\\text-summarize-project\\myenv\\lib\\site-packages (from requests->huggingface-hub>=0.21.0->accelerate) (3.10)\n",
      "Requirement already satisfied: urllib3<3,>=1.21.1 in c:\\users\\godar\\desktop\\text-summarize-project\\myenv\\lib\\site-packages (from requests->huggingface-hub>=0.21.0->accelerate) (2.3.0)\n",
      "Requirement already satisfied: certifi>=2017.4.17 in c:\\users\\godar\\desktop\\text-summarize-project\\myenv\\lib\\site-packages (from requests->huggingface-hub>=0.21.0->accelerate) (2025.1.31)\n",
      "Found existing installation: transformers 4.50.3\n",
      "Uninstalling transformers-4.50.3:\n",
      "  Successfully uninstalled transformers-4.50.3\n",
      "Found existing installation: accelerate 1.5.2\n",
      "Uninstalling accelerate-1.5.2:\n",
      "  Successfully uninstalled accelerate-1.5.2\n",
      "Collecting transformers\n",
      "  Using cached transformers-4.50.3-py3-none-any.whl.metadata (39 kB)\n",
      "Collecting accelerate\n",
      "  Using cached accelerate-1.5.2-py3-none-any.whl.metadata (19 kB)\n",
      "Requirement already satisfied: filelock in c:\\users\\godar\\desktop\\text-summarize-project\\myenv\\lib\\site-packages (from transformers) (3.18.0)\n",
      "Requirement already satisfied: huggingface-hub<1.0,>=0.26.0 in c:\\users\\godar\\desktop\\text-summarize-project\\myenv\\lib\\site-packages (from transformers) (0.29.3)\n",
      "Requirement already satisfied: numpy>=1.17 in c:\\users\\godar\\desktop\\text-summarize-project\\myenv\\lib\\site-packages (from transformers) (2.2.4)\n",
      "Requirement already satisfied: packaging>=20.0 in c:\\users\\godar\\desktop\\text-summarize-project\\myenv\\lib\\site-packages (from transformers) (24.2)\n",
      "Requirement already satisfied: pyyaml>=5.1 in c:\\users\\godar\\desktop\\text-summarize-project\\myenv\\lib\\site-packages (from transformers) (6.0.2)\n",
      "Requirement already satisfied: regex!=2019.12.17 in c:\\users\\godar\\desktop\\text-summarize-project\\myenv\\lib\\site-packages (from transformers) (2024.11.6)\n",
      "Requirement already satisfied: requests in c:\\users\\godar\\desktop\\text-summarize-project\\myenv\\lib\\site-packages (from transformers) (2.32.3)\n",
      "Requirement already satisfied: tokenizers<0.22,>=0.21 in c:\\users\\godar\\desktop\\text-summarize-project\\myenv\\lib\\site-packages (from transformers) (0.21.1)\n",
      "Requirement already satisfied: safetensors>=0.4.3 in c:\\users\\godar\\desktop\\text-summarize-project\\myenv\\lib\\site-packages (from transformers) (0.5.3)\n",
      "Requirement already satisfied: tqdm>=4.27 in c:\\users\\godar\\desktop\\text-summarize-project\\myenv\\lib\\site-packages (from transformers) (4.67.1)\n",
      "Requirement already satisfied: psutil in c:\\users\\godar\\desktop\\text-summarize-project\\myenv\\lib\\site-packages (from accelerate) (7.0.0)\n",
      "Requirement already satisfied: torch>=2.0.0 in c:\\users\\godar\\desktop\\text-summarize-project\\myenv\\lib\\site-packages (from accelerate) (2.6.0)\n",
      "Requirement already satisfied: fsspec>=2023.5.0 in c:\\users\\godar\\desktop\\text-summarize-project\\myenv\\lib\\site-packages (from huggingface-hub<1.0,>=0.26.0->transformers) (2024.12.0)\n",
      "Requirement already satisfied: typing-extensions>=3.7.4.3 in c:\\users\\godar\\desktop\\text-summarize-project\\myenv\\lib\\site-packages (from huggingface-hub<1.0,>=0.26.0->transformers) (4.13.0)\n",
      "Requirement already satisfied: networkx in c:\\users\\godar\\desktop\\text-summarize-project\\myenv\\lib\\site-packages (from torch>=2.0.0->accelerate) (3.4.2)\n",
      "Requirement already satisfied: jinja2 in c:\\users\\godar\\desktop\\text-summarize-project\\myenv\\lib\\site-packages (from torch>=2.0.0->accelerate) (3.1.2)\n",
      "Requirement already satisfied: setuptools in c:\\users\\godar\\desktop\\text-summarize-project\\myenv\\lib\\site-packages (from torch>=2.0.0->accelerate) (78.1.0)\n",
      "Requirement already satisfied: sympy==1.13.1 in c:\\users\\godar\\desktop\\text-summarize-project\\myenv\\lib\\site-packages (from torch>=2.0.0->accelerate) (1.13.1)\n",
      "Requirement already satisfied: mpmath<1.4,>=1.1.0 in c:\\users\\godar\\desktop\\text-summarize-project\\myenv\\lib\\site-packages (from sympy==1.13.1->torch>=2.0.0->accelerate) (1.3.0)\n",
      "Requirement already satisfied: colorama in c:\\users\\godar\\desktop\\text-summarize-project\\myenv\\lib\\site-packages (from tqdm>=4.27->transformers) (0.4.6)\n",
      "Requirement already satisfied: charset-normalizer<4,>=2 in c:\\users\\godar\\desktop\\text-summarize-project\\myenv\\lib\\site-packages (from requests->transformers) (3.4.1)\n",
      "Requirement already satisfied: idna<4,>=2.5 in c:\\users\\godar\\desktop\\text-summarize-project\\myenv\\lib\\site-packages (from requests->transformers) (3.10)\n",
      "Requirement already satisfied: urllib3<3,>=1.21.1 in c:\\users\\godar\\desktop\\text-summarize-project\\myenv\\lib\\site-packages (from requests->transformers) (2.3.0)\n",
      "Requirement already satisfied: certifi>=2017.4.17 in c:\\users\\godar\\desktop\\text-summarize-project\\myenv\\lib\\site-packages (from requests->transformers) (2025.1.31)\n",
      "Requirement already satisfied: MarkupSafe>=2.0 in c:\\users\\godar\\desktop\\text-summarize-project\\myenv\\lib\\site-packages (from jinja2->torch>=2.0.0->accelerate) (3.0.2)\n",
      "Using cached transformers-4.50.3-py3-none-any.whl (10.2 MB)\n",
      "Using cached accelerate-1.5.2-py3-none-any.whl (345 kB)\n",
      "Installing collected packages: accelerate, transformers\n",
      "Successfully installed accelerate-1.5.2 transformers-4.50.3\n"
     ]
    }
   ],
   "execution_count": 10
  },
  {
   "metadata": {
    "ExecuteTime": {
     "end_time": "2025-03-31T10:37:12.307301Z",
     "start_time": "2025-03-31T10:37:12.301613Z"
    }
   },
   "cell_type": "code",
   "source": [
    "class ModelTrainer:\n",
    "        def __init__(self,config:ModelTrainerConfig):\n",
    "           print(\"Loaded Config:\", config)\n",
    "           self.config = config\n",
    "        def train(self):\n",
    "            device = \"cuda\" if torch.cuda.is_available() else \"cpu\"\n",
    "            tokenizer = AutoTokenizer.from_pretrained(self.config.model_ckpt)\n",
    "            model_pegasus = AutoModelForSeq2SeqLM.from_pretrained(self.config.model_ckpt).to(device)\n",
    "            seq2seq_data_collator = DataCollatorForSeq2Seq(tokenizer, model=model_pegasus)\n",
    "\n",
    "            dataset_samsum_pt = load_from_disk(self.config.data_path)\n",
    "\n",
    "            trainer_args = TrainingArguments(\n",
    "                output_dir=self.config.root_dir, num_train_epochs=self.config.num_train_epochs, warmup_steps=self.config.warmup_steps,\n",
    "                per_device_train_batch_size=self.config.per_device_train_batch_size, per_device_eval_batch_size=self.config.per_device_eval_batch_size,\n",
    "                weight_decay=self.config.weight_decay, logging_steps=self.config.logging_steps, evaluation_strategy=self.config.evaluation_strategy,\n",
    "                 eval_steps=self.config.eval_steps, save_steps=1e6,\n",
    "                gradient_accumulation_steps=self.config.gradient_accumulation_steps,\n",
    "            )\n",
    "\n",
    "            trainer = Trainer(model=model_pegasus, args=trainer_args,\n",
    "                  tokenizer=tokenizer, data_collator=seq2seq_data_collator,\n",
    "                  train_dataset=dataset_samsum_pt[\"test\"],\n",
    "                  eval_dataset=dataset_samsum_pt[\"validation\"])\n",
    "\n",
    "            trainer.train()\n",
    "\n",
    "            #save the model\n",
    "            model_pegasus.save_pretrained(os.path.join(self.config.root_dir, \"pegasus_samsum_model\"))\n",
    "            tokenizer.save_pretrained(os.path.join(self.config.root_dir, \"tokenizer\"))"
   ],
   "id": "b17cfaccd090d4f1",
   "outputs": [],
   "execution_count": 11
  },
  {
   "metadata": {
    "jupyter": {
     "is_executing": true
    },
    "ExecuteTime": {
     "end_time": "2025-03-31T10:45:44.212909400Z",
     "start_time": "2025-03-31T10:37:14.578020Z"
    }
   },
   "cell_type": "code",
   "source": [
    "try:\n",
    "    config=ConfigurationManager()\n",
    "    model_trainer_config=config.get_model_trainer_config()\n",
    "    model_trainer=ModelTrainer(config=model_trainer_config)\n",
    "    model_trainer.train()\n",
    "except Exception as e:\n",
    "    raise e"
   ],
   "id": "ae54311d8d1f2bbd",
   "outputs": [
    {
     "name": "stdout",
     "output_type": "stream",
     "text": [
      "[2025-03-31 16:07:14,584] : INFO : common : Loaded config\\config.yaml successfully\n",
      "[2025-03-31 16:07:14,587] : INFO : common : Loaded params.yaml successfully\n",
      "[2025-03-31 16:07:14,589] : INFO : common : Created directory artifacts successfully\n",
      "[2025-03-31 16:07:14,590] : INFO : common : Created directory artifacts/model_trainer successfully\n",
      "Loaded Config: ModelTrainerConfig(root_dir='artifacts/model_trainer', data_path='artifacts/data_transformation/samsum_dataset', model_ckpt='google/pegasus-cnn_dailymail', num_train_epochs=1, warmup_steps=500, per_device_train_batch_size=1, per_device_eval_batch_size=1, weight_decay=0.01, logging_steps=10, evaluation_strategy='steps', eval_steps=500, save_steps='1e6', gradient_accumulation_steps=16)\n"
     ]
    },
    {
     "name": "stderr",
     "output_type": "stream",
     "text": [
      "Some weights of PegasusForConditionalGeneration were not initialized from the model checkpoint at google/pegasus-cnn_dailymail and are newly initialized: ['model.decoder.embed_positions.weight', 'model.encoder.embed_positions.weight']\n",
      "You should probably TRAIN this model on a down-stream task to be able to use it for predictions and inference.\n",
      "C:\\Users\\godar\\Desktop\\Text-Summarize-Project\\myenv\\Lib\\site-packages\\transformers\\training_args.py:1611: FutureWarning: `evaluation_strategy` is deprecated and will be removed in version 4.46 of 🤗 Transformers. Use `eval_strategy` instead\n",
      "  warnings.warn(\n",
      "C:\\Users\\godar\\AppData\\Local\\Temp\\ipykernel_24276\\4263280991.py:21: FutureWarning: `tokenizer` is deprecated and will be removed in version 5.0.0 for `Trainer.__init__`. Use `processing_class` instead.\n",
      "  trainer = Trainer(model=model_pegasus, args=trainer_args,\n"
     ]
    },
    {
     "data": {
      "text/plain": [
       "<IPython.core.display.HTML object>"
      ],
      "text/html": [
       "\n",
       "    <div>\n",
       "      \n",
       "      <progress value='7' max='51' style='width:300px; height:20px; vertical-align: middle;'></progress>\n",
       "      [ 7/51 07:09 < 1:03:00, 0.01 it/s, Epoch 0.12/1]\n",
       "    </div>\n",
       "    <table border=\"1\" class=\"dataframe\">\n",
       "  <thead>\n",
       " <tr style=\"text-align: left;\">\n",
       "      <th>Step</th>\n",
       "      <th>Training Loss</th>\n",
       "      <th>Validation Loss</th>\n",
       "    </tr>\n",
       "  </thead>\n",
       "  <tbody>\n",
       "  </tbody>\n",
       "</table><p>"
      ]
     },
     "metadata": {},
     "output_type": "display_data"
    }
   ],
   "execution_count": null
  },
  {
   "metadata": {},
   "cell_type": "code",
   "outputs": [],
   "execution_count": null,
   "source": "",
   "id": "4989a168fffe57ea"
  }
 ],
 "metadata": {
  "kernelspec": {
   "display_name": "Python 3",
   "language": "python",
   "name": "python3"
  },
  "language_info": {
   "codemirror_mode": {
    "name": "ipython",
    "version": 2
   },
   "file_extension": ".py",
   "mimetype": "text/x-python",
   "name": "python",
   "nbconvert_exporter": "python",
   "pygments_lexer": "ipython2",
   "version": "2.7.6"
  }
 },
 "nbformat": 4,
 "nbformat_minor": 5
}
