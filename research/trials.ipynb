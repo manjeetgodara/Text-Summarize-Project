{
 "cells": [
  {
   "metadata": {
    "ExecuteTime": {
     "end_time": "2025-03-27T05:21:10.609252Z",
     "start_time": "2025-03-27T05:21:10.604042Z"
    }
   },
   "cell_type": "code",
   "source": "d={\"key\":\"value\",\"key1\":\"value1\",\"key2\":\"value2\",\"key3\":\"value3\"}",
   "id": "427cc4ab9b32e5bc",
   "outputs": [],
   "execution_count": 5
  },
  {
   "metadata": {
    "ExecuteTime": {
     "end_time": "2025-03-27T05:21:21.457799Z",
     "start_time": "2025-03-27T05:21:21.453105Z"
    }
   },
   "cell_type": "code",
   "source": "d[\"key\"]",
   "id": "516fc35304579189",
   "outputs": [
    {
     "data": {
      "text/plain": [
       "'value'"
      ]
     },
     "execution_count": 6,
     "metadata": {},
     "output_type": "execute_result"
    }
   ],
   "execution_count": 6
  },
  {
   "metadata": {
    "ExecuteTime": {
     "end_time": "2025-03-27T05:35:19.016027Z",
     "start_time": "2025-03-27T05:35:19.012977Z"
    }
   },
   "cell_type": "code",
   "source": "from box import ConfigBox",
   "id": "11820567ffe6c0f2",
   "outputs": [],
   "execution_count": 20
  },
  {
   "metadata": {
    "ExecuteTime": {
     "end_time": "2025-03-27T05:32:29.170923Z",
     "start_time": "2025-03-27T05:32:29.167105Z"
    }
   },
   "cell_type": "code",
   "source": "from ensure import ensure_annotations",
   "id": "ccbb74895848b028",
   "outputs": [],
   "execution_count": 14
  },
  {
   "metadata": {
    "ExecuteTime": {
     "end_time": "2025-03-27T05:32:32.024620Z",
     "start_time": "2025-03-27T05:32:32.019639Z"
    }
   },
   "cell_type": "code",
   "source": [
    "@ensure_annotations\n",
    "def add_numbers(a: int, b: int) -> int:\n",
    "    return a + b\n",
    "\n",
    "print(add_numbers(3, 5))"
   ],
   "id": "668c221d0aea7494",
   "outputs": [
    {
     "name": "stdout",
     "output_type": "stream",
     "text": [
      "8\n"
     ]
    }
   ],
   "execution_count": 15
  },
  {
   "metadata": {},
   "cell_type": "code",
   "outputs": [],
   "execution_count": null,
   "source": "",
   "id": "d63f9ca5e3cf0d65"
  }
 ],
 "metadata": {
  "kernelspec": {
   "name": "python3",
   "language": "python",
   "display_name": "Python 3 (ipykernel)"
  }
 },
 "nbformat": 5,
 "nbformat_minor": 9
}
