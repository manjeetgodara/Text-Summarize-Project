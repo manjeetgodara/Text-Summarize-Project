{
 "cells": [
  {
   "cell_type": "code",
   "id": "initial_id",
   "metadata": {
    "collapsed": true,
    "ExecuteTime": {
     "end_time": "2025-03-27T11:36:32.823423Z",
     "start_time": "2025-03-27T11:36:32.818128Z"
    }
   },
   "source": "%pwd",
   "outputs": [
    {
     "data": {
      "text/plain": [
       "'C:\\\\Users\\\\godar\\\\Desktop\\\\Text-Summarize-Project\\\\research'"
      ]
     },
     "execution_count": 1,
     "metadata": {},
     "output_type": "execute_result"
    }
   ],
   "execution_count": 1
  },
  {
   "metadata": {
    "ExecuteTime": {
     "end_time": "2025-03-27T11:36:34.677251Z",
     "start_time": "2025-03-27T11:36:34.673134Z"
    }
   },
   "cell_type": "code",
   "source": "import os",
   "id": "ef96c831931d9a7",
   "outputs": [],
   "execution_count": 2
  },
  {
   "metadata": {
    "ExecuteTime": {
     "end_time": "2025-03-27T11:36:36.490027Z",
     "start_time": "2025-03-27T11:36:36.486374Z"
    }
   },
   "cell_type": "code",
   "source": "os.chdir(\"../\")",
   "id": "f4c686fe0964257c",
   "outputs": [],
   "execution_count": 3
  },
  {
   "metadata": {
    "ExecuteTime": {
     "end_time": "2025-03-27T11:36:38.522267Z",
     "start_time": "2025-03-27T11:36:38.515506Z"
    }
   },
   "cell_type": "code",
   "source": "%pwd",
   "id": "ecb8d3db6038735",
   "outputs": [
    {
     "data": {
      "text/plain": [
       "'C:\\\\Users\\\\godar\\\\Desktop\\\\Text-Summarize-Project'"
      ]
     },
     "execution_count": 4,
     "metadata": {},
     "output_type": "execute_result"
    }
   ],
   "execution_count": 4
  },
  {
   "metadata": {
    "ExecuteTime": {
     "end_time": "2025-03-27T11:37:02.888249Z",
     "start_time": "2025-03-27T11:37:02.882841Z"
    }
   },
   "cell_type": "code",
   "source": [
    "from dataclasses import dataclass\n",
    "from pathlib import Path\n",
    "# Entity(which defines the return type of function\n",
    "@dataclass(frozen=True)\n",
    "class DataValidationConfig:\n",
    "    root_dir: Path\n",
    "    STATUS_FILE : str\n",
    "    ALL_REQUIRED_FILES : list\n"
   ],
   "id": "9bb4d868397d537",
   "outputs": [],
   "execution_count": 5
  },
  {
   "metadata": {
    "ExecuteTime": {
     "end_time": "2025-03-27T11:37:09.599513Z",
     "start_time": "2025-03-27T11:37:07.664436Z"
    }
   },
   "cell_type": "code",
   "source": "!pip install python-box",
   "id": "8cd6a812b64c31fe",
   "outputs": [
    {
     "name": "stdout",
     "output_type": "stream",
     "text": [
      "Requirement already satisfied: python-box in c:\\users\\godar\\desktop\\nlp\\.venv\\lib\\site-packages (7.3.2)\n"
     ]
    }
   ],
   "execution_count": 6
  },
  {
   "metadata": {
    "ExecuteTime": {
     "end_time": "2025-03-27T11:37:12.642785Z",
     "start_time": "2025-03-27T11:37:12.569442Z"
    }
   },
   "cell_type": "code",
   "source": [
    "from src.textSummarizer.constants import *\n",
    "from src.textSummarizer.utils.common import read_yaml,create_directories"
   ],
   "id": "a8e39fd38500bb71",
   "outputs": [],
   "execution_count": 7
  },
  {
   "metadata": {
    "ExecuteTime": {
     "end_time": "2025-03-27T11:37:31.415432Z",
     "start_time": "2025-03-27T11:37:31.410122Z"
    }
   },
   "cell_type": "code",
   "source": [
    "class ConfigurationManager:\n",
    "    def __init__(self,\n",
    "                 config_filepath=CONFIG_FILE_PATH,\n",
    "                 params_filepath=PARAMS_FILE_PATH):\n",
    "        self.config =read_yaml(config_filepath)\n",
    "        self.params = read_yaml(params_filepath)\n",
    "\n",
    "        create_directories([self.config.artifacts_root])\n",
    "\n",
    "    def get_data_validation_config(self)->DataValidationConfig:\n",
    "        config = self.config.data_validation\n",
    "        create_directories([config.root_dir])\n",
    "        data_validation_config=DataValidationConfig(root_dir=config.root_dir,\n",
    "                                                  STATUS_FILE=config.STATUS_FILE,\n",
    "                                                  ALL_REQUIRED_FILES=config.ALL_REQUIRED_FILES)\n",
    "        return data_validation_config"
   ],
   "id": "7a88000ca5febc8a",
   "outputs": [],
   "execution_count": 8
  },
  {
   "metadata": {
    "ExecuteTime": {
     "end_time": "2025-03-27T11:37:35.009066Z",
     "start_time": "2025-03-27T11:37:35.005197Z"
    }
   },
   "cell_type": "code",
   "source": [
    "import os\n",
    "from src.textSummarizer.logging import logger\n",
    "from src.textSummarizer.utils.common import get_size"
   ],
   "id": "55d4fc5a95042a5",
   "outputs": [],
   "execution_count": 9
  },
  {
   "metadata": {
    "ExecuteTime": {
     "end_time": "2025-03-27T11:37:47.600455Z",
     "start_time": "2025-03-27T11:37:47.594743Z"
    }
   },
   "cell_type": "code",
   "source": [
    "class DataValidation:\n",
    "    def __init__(self,config:DataValidationConfig):\n",
    "        self.config = config\n",
    "\n",
    "    def validate_all_files_exist(self)->bool:\n",
    "        try:\n",
    "            validation_status = None\n",
    "\n",
    "            all_files = os.listdir(os.path.join(\"artifacts\",\"data_ingestion\",\"samsum_dataset\"))\n",
    "            for file in all_files:\n",
    "                if file not in self.config.ALL_REQUIRED_FILES:\n",
    "                    validation_status = False\n",
    "                    with open(self.config.STATUS_FILE,'w') as f:\n",
    "                        f.write(f\"Validation status : {validation_status}\")\n",
    "                else:\n",
    "                    validation_status = True\n",
    "                    with open(self.config.STATUS_FILE,'w') as f:\n",
    "                        f.write(f\"Validation status : {validation_status}\")\n",
    "            return validation_status\n",
    "        except Exception as e:\n",
    "            raise e\n"
   ],
   "id": "6e9eccfde4970053",
   "outputs": [],
   "execution_count": 10
  },
  {
   "metadata": {
    "ExecuteTime": {
     "end_time": "2025-03-27T11:39:18.974902Z",
     "start_time": "2025-03-27T11:39:18.962058Z"
    }
   },
   "cell_type": "code",
   "source": [
    "try:\n",
    "   config=ConfigurationManager()\n",
    "   data_validation_config=config.get_data_validation_config()\n",
    "   data_validation=DataValidation(config=data_validation_config)\n",
    "   data_validation.validate_all_files_exist()\n",
    "except Exception as e:\n",
    "    raise e"
   ],
   "id": "26435dfc67966a32",
   "outputs": [
    {
     "name": "stdout",
     "output_type": "stream",
     "text": [
      "[2025-03-27 17:09:18,966] : INFO : common : Loaded config\\config.yaml successfully\n",
      "[2025-03-27 17:09:18,968] : INFO : common : Loaded params.yaml successfully\n",
      "[2025-03-27 17:09:18,970] : INFO : common : Created directory artifacts successfully\n",
      "[2025-03-27 17:09:18,971] : INFO : common : Created directory artifacts/data_validation successfully\n"
     ]
    }
   ],
   "execution_count": 11
  },
  {
   "metadata": {},
   "cell_type": "code",
   "outputs": [],
   "execution_count": null,
   "source": "",
   "id": "3f2ae7c5ad3f4ac7"
  }
 ],
 "metadata": {
  "kernelspec": {
   "display_name": "Python 3",
   "language": "python",
   "name": "python3"
  },
  "language_info": {
   "codemirror_mode": {
    "name": "ipython",
    "version": 2
   },
   "file_extension": ".py",
   "mimetype": "text/x-python",
   "name": "python",
   "nbconvert_exporter": "python",
   "pygments_lexer": "ipython2",
   "version": "2.7.6"
  }
 },
 "nbformat": 4,
 "nbformat_minor": 5
}
