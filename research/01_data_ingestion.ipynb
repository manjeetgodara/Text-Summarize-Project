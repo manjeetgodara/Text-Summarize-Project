{
 "cells": [
  {
   "cell_type": "code",
   "id": "initial_id",
   "metadata": {
    "collapsed": true,
    "ExecuteTime": {
     "end_time": "2025-03-27T10:16:22.887720Z",
     "start_time": "2025-03-27T10:16:22.882542Z"
    }
   },
   "source": "%pwd\n",
   "outputs": [
    {
     "data": {
      "text/plain": [
       "'C:\\\\Users\\\\godar\\\\Desktop\\\\Text-Summarize-Project\\\\research'"
      ]
     },
     "execution_count": 1,
     "metadata": {},
     "output_type": "execute_result"
    }
   ],
   "execution_count": 1
  },
  {
   "metadata": {
    "ExecuteTime": {
     "end_time": "2025-03-27T10:16:24.982995Z",
     "start_time": "2025-03-27T10:16:24.979915Z"
    }
   },
   "cell_type": "code",
   "source": "import os",
   "id": "b19f4e2a245d65fa",
   "outputs": [],
   "execution_count": 2
  },
  {
   "metadata": {
    "ExecuteTime": {
     "end_time": "2025-03-27T10:16:26.799337Z",
     "start_time": "2025-03-27T10:16:26.795525Z"
    }
   },
   "cell_type": "code",
   "source": "os.chdir(\"../\")",
   "id": "89546bc1c97ad852",
   "outputs": [],
   "execution_count": 3
  },
  {
   "metadata": {
    "ExecuteTime": {
     "end_time": "2025-03-27T10:16:28.620643Z",
     "start_time": "2025-03-27T10:16:28.614252Z"
    }
   },
   "cell_type": "code",
   "source": "%pwd",
   "id": "5372d67ce0286be6",
   "outputs": [
    {
     "data": {
      "text/plain": [
       "'C:\\\\Users\\\\godar\\\\Desktop\\\\Text-Summarize-Project'"
      ]
     },
     "execution_count": 4,
     "metadata": {},
     "output_type": "execute_result"
    }
   ],
   "execution_count": 4
  },
  {
   "metadata": {
    "ExecuteTime": {
     "end_time": "2025-03-27T10:16:31.771564Z",
     "start_time": "2025-03-27T10:16:31.767148Z"
    }
   },
   "cell_type": "code",
   "source": [
    "from dataclasses import dataclass\n",
    "from pathlib import Path\n",
    "# Entity(which defines the return type of function\n",
    "@dataclass(frozen=True)\n",
    "class DataIngestionConfig:\n",
    "    root_dir: Path\n",
    "    source_URL : str\n",
    "    local_data_file:Path\n",
    "    unzip_dir:Path"
   ],
   "id": "42493fdf0fbf1667",
   "outputs": [],
   "execution_count": 5
  },
  {
   "metadata": {
    "ExecuteTime": {
     "end_time": "2025-03-27T10:16:36.140670Z",
     "start_time": "2025-03-27T10:16:33.998193Z"
    }
   },
   "cell_type": "code",
   "source": "!pip install python-box",
   "id": "5ad698b8b8a4505b",
   "outputs": [
    {
     "name": "stdout",
     "output_type": "stream",
     "text": [
      "Requirement already satisfied: python-box in c:\\users\\godar\\desktop\\nlp\\.venv\\lib\\site-packages (7.3.2)\n"
     ]
    }
   ],
   "execution_count": 6
  },
  {
   "metadata": {
    "ExecuteTime": {
     "end_time": "2025-03-27T10:16:37.580103Z",
     "start_time": "2025-03-27T10:16:37.504325Z"
    }
   },
   "cell_type": "code",
   "source": [
    "from src.textSummarizer.constants import *\n",
    "from src.textSummarizer.utils.common import read_yaml,create_directories"
   ],
   "id": "33046776fd3850bd",
   "outputs": [],
   "execution_count": 7
  },
  {
   "metadata": {
    "ExecuteTime": {
     "end_time": "2025-03-27T10:16:40.194958Z",
     "start_time": "2025-03-27T10:16:40.188195Z"
    }
   },
   "cell_type": "code",
   "source": [
    "class ConfigurationManager:\n",
    "    def __init__(self,\n",
    "                 config_filepath=CONFIG_FILE_PATH,\n",
    "                 params_filepath=PARAMS_FILE_PATH):\n",
    "        self.config =read_yaml(config_filepath)\n",
    "        self.params = read_yaml(params_filepath)\n",
    "\n",
    "        create_directories([self.config.artifacts_root])\n",
    "\n",
    "    def get_data_ingestion_config(self)->DataIngestionConfig:\n",
    "        config=self.config.data_ingestion\n",
    "        create_directories([config.root_dir])\n",
    "        data_ingestion_config=DataIngestionConfig(root_dir=config.root_dir,\n",
    "                                                  source_URL=config.source_URL,\n",
    "                                                  local_data_file=config.local_data_file,\n",
    "                                                  unzip_dir=config.unzip_dir)\n",
    "        return data_ingestion_config"
   ],
   "id": "cc32b475b39b3005",
   "outputs": [],
   "execution_count": 8
  },
  {
   "metadata": {
    "ExecuteTime": {
     "end_time": "2025-03-27T10:16:42.140165Z",
     "start_time": "2025-03-27T10:16:42.136335Z"
    }
   },
   "cell_type": "code",
   "source": [
    "import os\n",
    "import urllib.request as request\n",
    "import zipfile\n",
    "from src.textSummarizer.logging import logger\n",
    "from src.textSummarizer.utils.common import get_size\n"
   ],
   "id": "3b13d0b1fc5edf3b",
   "outputs": [],
   "execution_count": 9
  },
  {
   "metadata": {
    "ExecuteTime": {
     "end_time": "2025-03-27T10:16:45.218182Z",
     "start_time": "2025-03-27T10:16:45.211376Z"
    }
   },
   "cell_type": "code",
   "source": [
    "class DataIngestion:\n",
    "    def __init__(self,config:DataIngestionConfig):\n",
    "        self.config = config\n",
    "    def download_file(self):\n",
    "        if not os.path.exists(self.config.local_data_file):\n",
    "            filename, headers = request.urlretrieve(url = self.config.source_URL,\n",
    "                                                    filename = self.config.local_data_file)\n",
    "            logger.info(f\"Download file {filename} with following headers: {headers}\")\n",
    "        else:\n",
    "            logger.info(f\"File {self.config.local_data_file} already exists of size:{get_size(Path(self.config.local_data_file))}\")\n",
    "\n",
    "    def extract_zip_file(self):\n",
    "        unzip_path=self.config.unzip_dir\n",
    "        os.makedirs(unzip_path, exist_ok=True)\n",
    "        with zipfile.ZipFile(self.config.local_data_file,'r') as zf:\n",
    "            zf.extractall(unzip_path)"
   ],
   "id": "3a27dafd466a65b7",
   "outputs": [],
   "execution_count": 10
  },
  {
   "metadata": {
    "ExecuteTime": {
     "end_time": "2025-03-27T10:16:50.299979Z",
     "start_time": "2025-03-27T10:16:47.986545Z"
    }
   },
   "cell_type": "code",
   "source": [
    "try:\n",
    "   config=ConfigurationManager()\n",
    "   data_ingestion_config=config.get_data_ingestion_config()\n",
    "   data_ingestion=DataIngestion(config=data_ingestion_config)\n",
    "   data_ingestion.download_file()\n",
    "   data_ingestion.extract_zip_file()\n",
    "except Exception as e:\n",
    "    raise e"
   ],
   "id": "34239509b73cc26e",
   "outputs": [
    {
     "name": "stdout",
     "output_type": "stream",
     "text": [
      "[2025-03-27 15:46:47,991] : INFO : common : Loaded config\\config.yaml successfully\n",
      "[2025-03-27 15:46:47,994] : INFO : common : Loaded params.yaml successfully\n",
      "[2025-03-27 15:46:47,995] : INFO : common : Created directory artifacts successfully\n",
      "[2025-03-27 15:46:47,996] : INFO : common : Created directory artifacts/data_ingestion successfully\n",
      "[2025-03-27 15:46:50,193] : INFO : 2666824989 : Download file artifacts/data_ingestion/data.zip with following headers: Connection: close\n",
      "Content-Length: 7903594\n",
      "Cache-Control: max-age=300\n",
      "Content-Security-Policy: default-src 'none'; style-src 'unsafe-inline'; sandbox\n",
      "Content-Type: application/zip\n",
      "ETag: \"dbc016a060da18070593b83afff580c9b300f0b6ea4147a7988433e04df246ca\"\n",
      "Strict-Transport-Security: max-age=31536000\n",
      "X-Content-Type-Options: nosniff\n",
      "X-Frame-Options: deny\n",
      "X-XSS-Protection: 1; mode=block\n",
      "X-GitHub-Request-Id: 2612:2942F9:150F05:2EB5F4:67E5258F\n",
      "Accept-Ranges: bytes\n",
      "Date: Thu, 27 Mar 2025 10:16:48 GMT\n",
      "Via: 1.1 varnish\n",
      "X-Served-By: cache-maa10235-MAA\n",
      "X-Cache: MISS\n",
      "X-Cache-Hits: 0\n",
      "X-Timer: S1743070608.862080,VS0,VE675\n",
      "Vary: Authorization,Accept-Encoding,Origin\n",
      "Access-Control-Allow-Origin: *\n",
      "Cross-Origin-Resource-Policy: cross-origin\n",
      "X-Fastly-Request-ID: fe581b2bfe7497a8a4a1b158920e5d962bf50967\n",
      "Expires: Thu, 27 Mar 2025 10:21:48 GMT\n",
      "Source-Age: 0\n",
      "\n",
      "\n"
     ]
    }
   ],
   "execution_count": 11
  },
  {
   "metadata": {},
   "cell_type": "code",
   "outputs": [],
   "execution_count": null,
   "source": "",
   "id": "4fcabd198c19b8a9"
  }
 ],
 "metadata": {
  "kernelspec": {
   "display_name": "Python 3",
   "language": "python",
   "name": "python3"
  },
  "language_info": {
   "codemirror_mode": {
    "name": "ipython",
    "version": 2
   },
   "file_extension": ".py",
   "mimetype": "text/x-python",
   "name": "python",
   "nbconvert_exporter": "python",
   "pygments_lexer": "ipython2",
   "version": "2.7.6"
  }
 },
 "nbformat": 4,
 "nbformat_minor": 5
}
